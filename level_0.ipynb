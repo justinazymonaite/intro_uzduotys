{
 "cells": [
  {
   "cell_type": "markdown",
   "metadata": {},
   "source": [
    "# Python užduotys - programavimo pagrindų treniruotės\n",
    "pirmas dublis, ar lengviau? Vistiek randu kur pasunkinti 😇"
   ]
  },
  {
   "cell_type": "markdown",
   "metadata": {},
   "source": [
    "## 1. Matematika\n",
    "1. parašykite funkciją, kuri lyginius skaičius dalintų vieną iš kito, o nelyginius sudaugintų, ir rezultatą grąžintų. Jeigu vienas yra lyginis, o kitas ne - atimtų didesnį iš mažesnio."
   ]
  },
  {
   "cell_type": "markdown",
   "metadata": {},
   "source": [
    "### Atsakymai"
   ]
  },
  {
   "cell_type": "code",
   "execution_count": 57,
   "metadata": {},
   "outputs": [
    {
     "name": "stdout",
     "output_type": "stream",
     "text": [
      "2.0\n",
      "0.5\n",
      "21\n",
      "1\n",
      "5\n"
     ]
    }
   ],
   "source": [
    "def multidivrest(number1, number2):\n",
    "    if number1 % 2 == 0 and number2 % 2 == 0 and number2 != 0:\n",
    "        return number1 / number2\n",
    "    elif number1 % 2 != 0 and number2 % 2 != 0:\n",
    "        return number1 * number2\n",
    "    else:\n",
    "        return abs(number1 - number2)\n",
    "\n",
    "print(multidivrest(4, 2))\n",
    "print(multidivrest(2, 4))\n",
    "print(multidivrest(3, 7))\n",
    "print(multidivrest(4, 3))\n",
    "print(multidivrest(4, 9))"
   ]
  },
  {
   "cell_type": "markdown",
   "metadata": {},
   "source": [
    "## 2. Grąžinkite sveikų skaičių sąrašo didžiausios ir mažiausios reikšmių indeksus"
   ]
  },
  {
   "cell_type": "markdown",
   "metadata": {},
   "source": [
    "### Atsakymas"
   ]
  },
  {
   "cell_type": "code",
   "execution_count": 58,
   "metadata": {},
   "outputs": [
    {
     "name": "stdout",
     "output_type": "stream",
     "text": [
      "2\n",
      "3\n"
     ]
    }
   ],
   "source": [
    "sarasas = [5, 7, 12, 1, 6, 4, 7, 11]\n",
    "# print(sarasas.index(6))\n",
    "print(sarasas.index(max(sarasas)))\n",
    "print(sarasas.index(min(sarasas)))"
   ]
  },
  {
   "cell_type": "markdown",
   "metadata": {},
   "source": [
    "## 3. Išmaišykite kortų kaladę\n",
    "* Sukurkite sarašą skaičių nuo 1 iki 52\n",
    "* Importuokite iš `random` modulio `shuffle`\n",
    "* Išmaišykite sąrašo elementus atsitiktine tvarka\n",
    "* Bonus: vietoj elementų skaičių, sugeneruokite saraše kortų kaladės reikšmes.\n",
    "\n",
    "P.S. Google `unicode character table` &#128514; padės su kortų paveiksliukais ar kitais emoji. Pvz `\"\\u2660\"` yra ♠ lapai"
   ]
  },
  {
   "cell_type": "markdown",
   "metadata": {},
   "source": [
    "### Atsakymai be bonus dalies"
   ]
  },
  {
   "cell_type": "code",
   "execution_count": 59,
   "metadata": {},
   "outputs": [
    {
     "name": "stdout",
     "output_type": "stream",
     "text": [
      "[38, 14, 7, 22, 43, 24, 27, 16, 47, 36, 32, 46, 50, 12, 4, 17, 26, 25, 18, 39, 13, 21, 30, 10, 1, 15, 19, 31, 52, 20, 23, 42, 33, 51, 11, 35, 3, 6, 8, 45, 34, 44, 9, 49, 28, 2, 37, 5, 40, 48, 41, 29]\n"
     ]
    }
   ],
   "source": [
    "from random import shuffle\n",
    "sarasas = list(range(1, 53))\n",
    "shuffle(sarasas)\n",
    "print(sarasas)"
   ]
  },
  {
   "cell_type": "markdown",
   "metadata": {},
   "source": [
    "### Bonus dalies atsakymai"
   ]
  },
  {
   "cell_type": "code",
   "execution_count": null,
   "metadata": {},
   "outputs": [],
   "source": [
    "kortos = []\n",
    "for zenklas in [\"\\u2660\", \"\\u2663\", \"\\u2665\", \"\\u2666\"]:\n",
    "    for reiksme in [*range(2, 10), \"T\", \"J\", \"Q\", \"K\", \"A\"]:\n",
    "        kortos.append(f\"{reiksme}{zenklas}\")\n",
    "# shuffle(kortos)\n",
    "print(kortos)"
   ]
  }
 ],
 "metadata": {
  "kernelspec": {
   "display_name": "Python 3.10.7 ('venv': venv)",
   "language": "python",
   "name": "python3"
  },
  "language_info": {
   "codemirror_mode": {
    "name": "ipython",
    "version": 3
   },
   "file_extension": ".py",
   "mimetype": "text/x-python",
   "name": "python",
   "nbconvert_exporter": "python",
   "pygments_lexer": "ipython3",
   "version": "3.10.7"
  },
  "orig_nbformat": 4,
  "vscode": {
   "interpreter": {
    "hash": "b83865cefe662f98152f84a2aeb3441d7a883854beda0d117daf02e1498c7de4"
   }
  }
 },
 "nbformat": 4,
 "nbformat_minor": 2
}
